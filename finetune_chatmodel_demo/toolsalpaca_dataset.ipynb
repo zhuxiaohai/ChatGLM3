{
 "cells": [
  {
   "cell_type": "code",
   "execution_count": 7,
   "outputs": [],
   "source": [
    "import json \n",
    "import importlib \n",
    "import preprocess_utils \n",
    "importlib.reload(preprocess_utils)\n",
    "from preprocess_utils import MultiTurnDataset\n",
    "\n",
    "from transformers import AutoTokenizer\n",
    "\n",
    "from datasets import Dataset\n",
    "import datasets "
   ],
   "metadata": {
    "collapsed": false,
    "ExecuteTime": {
     "end_time": "2024-01-18T11:16:16.927124203Z",
     "start_time": "2024-01-18T11:16:16.920283739Z"
    }
   },
   "id": "63a9707af454d528"
  },
  {
   "cell_type": "code",
   "execution_count": 5,
   "outputs": [],
   "source": [
    "tokenizer = AutoTokenizer.from_pretrained(\"/data/dataset/huggingface/hub/models--THUDM--chatglm3-6b/snapshots/456aa875cf1f46623006edaa23103774ea9c0eae\", trust_remote_code=True)"
   ],
   "metadata": {
    "collapsed": false,
    "ExecuteTime": {
     "end_time": "2024-01-18T11:15:26.222035769Z",
     "start_time": "2024-01-18T11:15:25.999017600Z"
    }
   },
   "id": "383f1b30c6e11e20"
  },
  {
   "cell_type": "code",
   "execution_count": 6,
   "outputs": [],
   "source": [
    "with open('formatted_data/tool_alpaca.jsonl', \"r\", encoding=\"utf-8\") as f:\n",
    "    if 'formatted_data/tool_alpaca.jsonl'.endswith(\".json\"):\n",
    "        train_data = json.load(f)\n",
    "    elif 'formatted_data/tool_alpaca.jsonl'.endswith(\".jsonl\"):\n",
    "        train_data = [json.loads(line) for line in f]"
   ],
   "metadata": {
    "collapsed": false,
    "ExecuteTime": {
     "end_time": "2024-01-18T11:15:45.888162902Z",
     "start_time": "2024-01-18T11:15:45.770426626Z"
    }
   },
   "id": "8c6e6b6e14575213"
  },
  {
   "cell_type": "code",
   "execution_count": 8,
   "outputs": [],
   "source": [
    "train_dataset = MultiTurnDataset(\n",
    "    train_data,\n",
    "    tokenizer,\n",
    "    2048,\n",
    ")"
   ],
   "metadata": {
    "collapsed": false,
    "ExecuteTime": {
     "end_time": "2024-01-18T11:17:25.802354955Z",
     "start_time": "2024-01-18T11:17:25.795082792Z"
    }
   },
   "id": "9be11cd7d3f60629"
  },
  {
   "cell_type": "code",
   "execution_count": 38,
   "outputs": [],
   "source": [
    "def generater():\n",
    "    num = len(train_dataset)\n",
    "    for i in range(num):\n",
    "        yield {\"conversations\": json.dumps(train_dataset[i])} "
   ],
   "metadata": {
    "collapsed": false,
    "ExecuteTime": {
     "end_time": "2024-01-18T11:39:06.762487811Z",
     "start_time": "2024-01-18T11:39:06.720226708Z"
    }
   },
   "id": "840ff07b61272b55"
  },
  {
   "cell_type": "code",
   "execution_count": 40,
   "outputs": [
    {
     "data": {
      "text/plain": "Generating train split: 0 examples [00:00, ? examples/s]",
      "application/vnd.jupyter.widget-view+json": {
       "version_major": 2,
       "version_minor": 0,
       "model_id": "46bc6ec96dd0498cb389be1695dd01cd"
      }
     },
     "metadata": {},
     "output_type": "display_data"
    }
   ],
   "source": [
    "new = Dataset.from_generator(generater)"
   ],
   "metadata": {
    "collapsed": false,
    "ExecuteTime": {
     "end_time": "2024-01-18T11:39:22.147543244Z",
     "start_time": "2024-01-18T11:39:09.051978726Z"
    }
   },
   "id": "b67cc829b6ac0418"
  },
  {
   "cell_type": "code",
   "execution_count": 45,
   "outputs": [
    {
     "data": {
      "text/plain": "Saving the dataset (0/1 shards):   0%|          | 0/4048 [00:00<?, ? examples/s]",
      "application/vnd.jupyter.widget-view+json": {
       "version_major": 2,
       "version_minor": 0,
       "model_id": "d16f4a94fdc74dca9c29e2859878972a"
      }
     },
     "metadata": {},
     "output_type": "display_data"
    }
   ],
   "source": [
    "new.save_to_disk('formatted_data/hf_dataset/tool_alpaca.hf')"
   ],
   "metadata": {
    "collapsed": false,
    "ExecuteTime": {
     "end_time": "2024-01-18T11:46:29.216856819Z",
     "start_time": "2024-01-18T11:46:29.104617601Z"
    }
   },
   "id": "4d348aefe47345f9"
  },
  {
   "cell_type": "code",
   "execution_count": 48,
   "outputs": [],
   "source": [
    "new2 = datasets.load_from_disk('formatted_data/hf_dataset/tool_alpaca.hf')"
   ],
   "metadata": {
    "collapsed": false,
    "ExecuteTime": {
     "end_time": "2024-01-18T11:47:29.404647433Z",
     "start_time": "2024-01-18T11:47:29.362782367Z"
    }
   },
   "id": "ce72af80357b6f67"
  },
  {
   "cell_type": "code",
   "execution_count": 50,
   "outputs": [
    {
     "data": {
      "text/plain": "True"
     },
     "execution_count": 50,
     "metadata": {},
     "output_type": "execute_result"
    }
   ],
   "source": [
    "new2[0] == new[0]"
   ],
   "metadata": {
    "collapsed": false,
    "ExecuteTime": {
     "end_time": "2024-01-18T11:47:47.238168132Z",
     "start_time": "2024-01-18T11:47:47.195333800Z"
    }
   },
   "id": "9de907617d33a95a"
  },
  {
   "cell_type": "code",
   "execution_count": 52,
   "outputs": [
    {
     "data": {
      "text/plain": "True"
     },
     "execution_count": 52,
     "metadata": {},
     "output_type": "execute_result"
    }
   ],
   "source": [
    "json.loads(new2[10]['conversations']) == train_dataset[10]"
   ],
   "metadata": {
    "collapsed": false,
    "ExecuteTime": {
     "end_time": "2024-01-18T11:49:55.558715458Z",
     "start_time": "2024-01-18T11:49:55.551502824Z"
    }
   },
   "id": "19b3748caca05bdb"
  },
  {
   "cell_type": "code",
   "execution_count": 54,
   "outputs": [],
   "source": [
    "from typing import TYPE_CHECKING, Any, Dict, Generator, List, Literal, Tuple, Union\n",
    "import json "
   ],
   "metadata": {
    "collapsed": false,
    "ExecuteTime": {
     "end_time": "2024-01-18T12:24:33.727217088Z",
     "start_time": "2024-01-18T12:24:33.684186601Z"
    }
   },
   "id": "1e884f010500886f"
  },
  {
   "cell_type": "code",
   "execution_count": 68,
   "outputs": [],
   "source": [
    "def preprocess_tokenized_dataset(examples: Dict[str, List[str]]) -> Dict[str, List[List[int]]]:\n",
    "    model_inputs = {'input_ids': [], 'labels': []}\n",
    "    for item in examples['conversations']:\n",
    "        data = json.loads(item)\n",
    "        model_inputs['input_ids'].append(data['input_ids'])\n",
    "        model_inputs['labels'].append(data['labels'])\n",
    "    return model_inputs"
   ],
   "metadata": {
    "collapsed": false,
    "ExecuteTime": {
     "end_time": "2024-01-18T12:35:04.508100409Z",
     "start_time": "2024-01-18T12:35:04.463535346Z"
    }
   },
   "id": "a2ce039a3fad86ab"
  },
  {
   "cell_type": "code",
   "execution_count": 69,
   "outputs": [
    {
     "data": {
      "text/plain": "Map:   0%|          | 0/4048 [00:00<?, ? examples/s]",
      "application/vnd.jupyter.widget-view+json": {
       "version_major": 2,
       "version_minor": 0,
       "model_id": "0d958942aec14bfd93db4838a096264e"
      }
     },
     "metadata": {},
     "output_type": "display_data"
    }
   ],
   "source": [
    "ss = new2.map(\n",
    "    preprocess_tokenized_dataset,\n",
    "    batched=True,\n",
    "    remove_columns=['conversations'],\n",
    ")"
   ],
   "metadata": {
    "collapsed": false,
    "ExecuteTime": {
     "end_time": "2024-01-18T12:35:09.240957425Z",
     "start_time": "2024-01-18T12:35:05.249716137Z"
    }
   },
   "id": "118f55f0e6cfc6b0"
  },
  {
   "cell_type": "code",
   "execution_count": 70,
   "outputs": [
    {
     "data": {
      "text/plain": "True"
     },
     "execution_count": 70,
     "metadata": {},
     "output_type": "execute_result"
    }
   ],
   "source": [
    "ss[0] == train_dataset[0]"
   ],
   "metadata": {
    "collapsed": false,
    "ExecuteTime": {
     "end_time": "2024-01-18T12:35:12.587162466Z",
     "start_time": "2024-01-18T12:35:12.577397098Z"
    }
   },
   "id": "df8118c65268f3ce"
  },
  {
   "cell_type": "code",
   "execution_count": null,
   "outputs": [],
   "source": [],
   "metadata": {
    "collapsed": false
   },
   "id": "8def54f20abb282d"
  }
 ],
 "metadata": {
  "kernelspec": {
   "display_name": "Python 3",
   "language": "python",
   "name": "python3"
  },
  "language_info": {
   "codemirror_mode": {
    "name": "ipython",
    "version": 2
   },
   "file_extension": ".py",
   "mimetype": "text/x-python",
   "name": "python",
   "nbconvert_exporter": "python",
   "pygments_lexer": "ipython2",
   "version": "2.7.6"
  }
 },
 "nbformat": 4,
 "nbformat_minor": 5
}
