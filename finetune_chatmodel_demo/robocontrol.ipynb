{
 "cells": [
  {
   "cell_type": "code",
   "execution_count": 22,
   "id": "initial_id",
   "metadata": {
    "collapsed": true,
    "ExecuteTime": {
     "end_time": "2024-01-23T11:18:09.026672026Z",
     "start_time": "2024-01-23T11:18:08.979757839Z"
    }
   },
   "outputs": [],
   "source": [
    "import os \n",
    "import json \n",
    "import pandas as pd \n",
    "\n",
    "import torch \n",
    "from transformers import AutoTokenizer, AutoModel, AutoConfig\n",
    "\n",
    "from openai_api.task_decompostion import TaskDecomposer\n",
    "from openai_api import gpt \n",
    "\n",
    "import preprocess_utils\n",
    "import importlib\n",
    "importlib.reload(preprocess_utils)\n",
    "from preprocess_utils import OneRoundEvaluationDatasetAugmented"
   ]
  },
  {
   "cell_type": "code",
   "execution_count": 2,
   "outputs": [],
   "source": [
    "def cal_match(prediction, label):\n",
    "    # 如果为空列表，说明没有激起任何工具\n",
    "    if len(label) == 0:\n",
    "        label = ('no corresponding tools.', '')\n",
    "    # 否则取第一条工具，每个工具是一个元组\n",
    "    else:\n",
    "        label = label[0]\n",
    "    target_intent = label[0]\n",
    "    target_method = label[1]\n",
    "    \n",
    "    # 如果ai没有调用工具\n",
    "    if isinstance(prediction, str):\n",
    "        prediction_intent = 'no corresponding tools.'\n",
    "        prediction_method = ''\n",
    "    # 如果ai调用了工具则一定是一个字典\n",
    "    else:\n",
    "        try:\n",
    "            prediction_intent = prediction.get('function', prediction.get('name'))\n",
    "            prediction_method = prediction.get('arguments', prediction.get('parameters'))\n",
    "        except:\n",
    "            prediction_intent = list(prediction.keys())[0]\n",
    "            prediction_method = prediction[prediction_intent]\n",
    "\n",
    "    if prediction_intent == target_intent:\n",
    "        if prediction_method == target_method:\n",
    "            result = [1, 1]\n",
    "        else:\n",
    "            result = [1, 0]\n",
    "    else:\n",
    "        result = [0, 0]\n",
    "    return result"
   ],
   "metadata": {
    "collapsed": false,
    "ExecuteTime": {
     "end_time": "2024-01-23T05:43:06.849952712Z",
     "start_time": "2024-01-23T05:43:06.835355716Z"
    }
   },
   "id": "e0c5a317ec6c1a0a"
  },
  {
   "cell_type": "code",
   "execution_count": 3,
   "outputs": [],
   "source": [
    "def cal_chatglm(train_data, train_dataset, model, tokenizer, set_name, model_name, limit=100):\n",
    "    print(set_name, model_name)\n",
    "    results = []\n",
    "    role = \"user\"\n",
    "    for i in range(len(train_dataset)):\n",
    "        print(i)\n",
    "        if i == limit:\n",
    "            break\n",
    "        data = train_dataset[i]\n",
    "        query = data[\"query\"]\n",
    "        # 如果target是[]，则说明query没有激起任何工具，no corresponding tools\n",
    "        # 如果target不是空列表，则只取第一条分析\n",
    "        target = data['query_target']\n",
    "        num_decomposition = train_data[i]['num_decomposition']\n",
    "        hit = train_data[i]['hit']\n",
    "        if num_decomposition == 1:\n",
    "            history = [data[\"history\"]]\n",
    "            try:\n",
    "                response, history = model.chat(tokenizer, query, history=history, role=role)\n",
    "            except:\n",
    "                result = [-1, -1, 1, query, None]\n",
    "            else:\n",
    "                result = cal_match(response, target)\n",
    "                result += [0, query, response]\n",
    "            if not hit:\n",
    "                result += ['no corresponding tools.']\n",
    "            else:\n",
    "                result += [target[0]]\n",
    "            result += ['single_turn']\n",
    "            result = [i] + result\n",
    "        else:\n",
    "            result = [i, -1, -1, -1, query, response, target, 'multi_turn']\n",
    "        results.append(result)\n",
    "    results = pd.DataFrame(results)\n",
    "    results.columns = ['index', 'intent', 'slot', 'error', 'query', 'response', 'target', 'type']\n",
    "    results = results.set_index('index')\n",
    "    results['set_name'] = set_name\n",
    "    results['model_name'] = model_name\n",
    "    return results"
   ],
   "metadata": {
    "collapsed": false,
    "ExecuteTime": {
     "end_time": "2024-01-23T05:43:07.219703337Z",
     "start_time": "2024-01-23T05:43:07.205541537Z"
    }
   },
   "id": "270dcfa5e00a3d81"
  },
  {
   "cell_type": "code",
   "execution_count": 4,
   "outputs": [],
   "source": [
    "def cal_openai(train_data, train_dataset, set_name, model_name, limit=100):\n",
    "    print(set_name, model_name)\n",
    "    with open('openai_api/configs/azure_openai_config_4.0.json', 'r') as f:\n",
    "        config = json.load(f)\n",
    "        gpt.openai_init(**config)\n",
    "    \n",
    "    llm = gpt.Gpt(config['model_name'], config['deployment_name'])\n",
    "    results = []\n",
    "    for i in range(0, len(train_data)):\n",
    "        print(i)\n",
    "        if i == limit:\n",
    "            break\n",
    "        data = train_dataset[i]\n",
    "        query = data[\"query\"]\n",
    "        # 如果target是[]，则说明query没有激起任何工具，no corresponding tools\n",
    "        # 如果target不是空列表，则只取第一条分析\n",
    "        target = data['query_target']\n",
    "        num_decomposition = train_data[i]['num_decomposition']\n",
    "        hit = train_data[i]['hit']\n",
    "        if num_decomposition == 1:\n",
    "            task_decomposer = TaskDecomposer(llm,\n",
    "                                             'openai_api/prompts/task_decomposition.txt',\n",
    "                                             'openai_api/prompts/tools/robocontrol_test/task_decomposition_rr_api.json',\n",
    "                                             'openai_api/few_shot_examples/task_decomposition.json',\n",
    "                                             \"User Requests:\\n {user_request}\\nAI: (The JSON (array) format output): \",\n",
    "                                             )\n",
    "            try:\n",
    "                response = task_decomposer.run(query)\n",
    "                if isinstance(response, list):\n",
    "                    response = response[0]\n",
    "            except:\n",
    "                print('try failed', query)\n",
    "                result = [-1, -1, 1, query, None]\n",
    "            else:\n",
    "                if response is None:\n",
    "                    result = [-1, -1, 1, query, None]\n",
    "                else:\n",
    "                    result = cal_match(response, target)\n",
    "                    result += [0, query, response]\n",
    "            if not hit:\n",
    "                result += ['no corresponding tools.']\n",
    "            else:\n",
    "                result += [target[0]]\n",
    "            result += ['single_turn']\n",
    "            result = [i] + result\n",
    "        else:\n",
    "            result = [i, -1, -1, -1, query, response, target, 'multi_turn']\n",
    "        results.append(result)\n",
    "    results = pd.DataFrame(results)\n",
    "    results.columns = ['index', 'intent', 'slot', 'error', 'query', 'response', 'target', 'type']\n",
    "    results = results.set_index('index')\n",
    "    results['set_name'] = set_name\n",
    "    results['model_name'] = model_name\n",
    "    return results "
   ],
   "metadata": {
    "collapsed": false,
    "ExecuteTime": {
     "end_time": "2024-01-23T05:43:07.747380704Z",
     "start_time": "2024-01-23T05:43:07.731422361Z"
    }
   },
   "id": "301102e452c629c2"
  },
  {
   "cell_type": "code",
   "execution_count": 5,
   "outputs": [],
   "source": [
    "def cal_accuracy(results):\n",
    "    num = results.shape[0]\n",
    "    intent = results[(results['error'] == 0) & (results['type'] == 'single_turn')]['intent']\n",
    "    zero_error_count = intent.shape[0]\n",
    "    zero_error_rate = zero_error_count / num\n",
    "    intent_sum, intent_mean = intent.sum(), intent.mean()\n",
    "    slot = results[(results['error'] == 0) & (results['type'] == 'single_turn') & (results['intent'] == 1)]['slot']\n",
    "    slot_sum, slot_mean = slot.sum(), slot.mean()\n",
    "    both_mean = slot_sum / zero_error_count\n",
    "    return pd.Series([num, zero_error_count, zero_error_rate, intent_sum, intent_mean, slot_sum, slot_mean, both_mean],\n",
    "                     index=['num', 'zero_error_count', 'zero_error_rate', 'intent_sum', 'intent_mean', 'slot_sum', 'slot_mean', 'both_mean'])"
   ],
   "metadata": {
    "collapsed": false,
    "ExecuteTime": {
     "end_time": "2024-01-23T05:43:09.436533279Z",
     "start_time": "2024-01-23T05:43:09.419556955Z"
    }
   },
   "id": "638d1aae6692c95a"
  },
  {
   "cell_type": "code",
   "execution_count": 24,
   "outputs": [],
   "source": [
    "tokenizer = AutoTokenizer.from_pretrained(\"/data/dataset/huggingface/hub/chatglm3-6b\", trust_remote_code=True)"
   ],
   "metadata": {
    "collapsed": false,
    "ExecuteTime": {
     "end_time": "2024-01-23T11:21:21.964655222Z",
     "start_time": "2024-01-23T11:21:21.709999421Z"
    }
   },
   "id": "6f07adc4ad31a939"
  },
  {
   "cell_type": "code",
   "execution_count": 7,
   "outputs": [],
   "source": [
    "# 数据集概览"
   ],
   "metadata": {
    "collapsed": false,
    "ExecuteTime": {
     "end_time": "2024-01-16T06:19:09.293102399Z",
     "start_time": "2024-01-16T06:19:09.283969401Z"
    }
   },
   "id": "b39d09344c805657"
  },
  {
   "cell_type": "code",
   "execution_count": 8,
   "outputs": [],
   "source": [
    "with open('formatted_data/robocontrol_dataset.jsonl', \"r\", encoding=\"utf-8\") as f:\n",
    "    if 'formatted_data/robocontrol_dataset.jsonl'.endswith(\".json\"):\n",
    "        train_data = json.load(f)\n",
    "    elif 'formatted_data/robocontrol_dataset.jsonl'.endswith(\".jsonl\"):\n",
    "        train_data = [json.loads(line) for line in f]"
   ],
   "metadata": {
    "collapsed": false,
    "ExecuteTime": {
     "end_time": "2024-01-16T06:19:10.854444039Z",
     "start_time": "2024-01-16T06:19:10.642037822Z"
    }
   },
   "id": "e32242389586d9f3"
  },
  {
   "cell_type": "code",
   "execution_count": 9,
   "outputs": [],
   "source": [
    "train_dataset = OneRoundEvaluationDatasetAugmented(\n",
    "    train_data,\n",
    "    tokenizer,\n",
    "    4096,\n",
    ")"
   ],
   "metadata": {
    "collapsed": false,
    "ExecuteTime": {
     "end_time": "2024-01-16T06:19:11.479852807Z",
     "start_time": "2024-01-16T06:19:11.468185022Z"
    }
   },
   "id": "bea590bc0c044dce"
  },
  {
   "cell_type": "code",
   "execution_count": 10,
   "outputs": [],
   "source": [
    "with open('formatted_data/robocontrol_dataset_testset.jsonl', \"r\", encoding=\"utf-8\") as f:\n",
    "    if 'formatted_data/robocontrol_dataset_testset.jsonl'.endswith(\".json\"):\n",
    "        test_data = json.load(f)\n",
    "    elif 'formatted_data/robocontrol_dataset_testset.jsonl'.endswith(\".jsonl\"):\n",
    "        test_data = [json.loads(line) for line in f]"
   ],
   "metadata": {
    "collapsed": false,
    "ExecuteTime": {
     "end_time": "2024-01-16T06:19:18.374961278Z",
     "start_time": "2024-01-16T06:19:18.268700551Z"
    }
   },
   "id": "e446688c5da16abe"
  },
  {
   "cell_type": "code",
   "execution_count": 11,
   "outputs": [],
   "source": [
    "test_dataset = OneRoundEvaluationDatasetAugmented(\n",
    "    test_data,\n",
    "    tokenizer,\n",
    "    4096,\n",
    ")"
   ],
   "metadata": {
    "collapsed": false,
    "ExecuteTime": {
     "end_time": "2024-01-16T06:19:25.958690498Z",
     "start_time": "2024-01-16T06:19:25.953795192Z"
    }
   },
   "id": "a63e0112844be2f5"
  },
  {
   "cell_type": "code",
   "execution_count": 97,
   "outputs": [],
   "source": [
    "df_train = pd.DataFrame()\n",
    "hit = [i['hit'] for i in train_data]\n",
    "num_decomposition = [i['num_decomposition'] for i in train_data]\n",
    "df_train['hit'] = hit \n",
    "df_train['num_decomposition'] = num_decomposition\n",
    "df_train['set'] = '1train'\n",
    "df_test = pd.DataFrame()\n",
    "hit = [i['hit'] for i in test_data]\n",
    "num_decomposition = [i['num_decomposition'] for i in test_data]\n",
    "df_test['hit'] = hit \n",
    "df_test['num_decomposition'] = num_decomposition\n",
    "df_test['set'] = '2test'\n",
    "df = pd.concat([df_train, df_test], axis=0).reset_index(drop=True)\n",
    "df['multi_turn'] = df['num_decomposition'] > 1\n",
    "df['no_tools'] = (df['hit'] == False)"
   ],
   "metadata": {
    "collapsed": false,
    "ExecuteTime": {
     "end_time": "2024-01-09T09:16:51.293608356Z",
     "start_time": "2024-01-09T09:16:51.270103896Z"
    }
   },
   "id": "20b20e5a23d771f2"
  },
  {
   "cell_type": "code",
   "execution_count": 98,
   "outputs": [
    {
     "data": {
      "text/plain": "       multi_turn               no_tools          \n              len sum      mean      sum      mean\nset                                               \n1train       3232   2  0.000619       47  0.014542\n2test        1078   0  0.000000       19  0.017625",
      "text/html": "<div>\n<style scoped>\n    .dataframe tbody tr th:only-of-type {\n        vertical-align: middle;\n    }\n\n    .dataframe tbody tr th {\n        vertical-align: top;\n    }\n\n    .dataframe thead tr th {\n        text-align: left;\n    }\n\n    .dataframe thead tr:last-of-type th {\n        text-align: right;\n    }\n</style>\n<table border=\"1\" class=\"dataframe\">\n  <thead>\n    <tr>\n      <th></th>\n      <th colspan=\"3\" halign=\"left\">multi_turn</th>\n      <th colspan=\"2\" halign=\"left\">no_tools</th>\n    </tr>\n    <tr>\n      <th></th>\n      <th>len</th>\n      <th>sum</th>\n      <th>mean</th>\n      <th>sum</th>\n      <th>mean</th>\n    </tr>\n    <tr>\n      <th>set</th>\n      <th></th>\n      <th></th>\n      <th></th>\n      <th></th>\n      <th></th>\n    </tr>\n  </thead>\n  <tbody>\n    <tr>\n      <th>1train</th>\n      <td>3232</td>\n      <td>2</td>\n      <td>0.000619</td>\n      <td>47</td>\n      <td>0.014542</td>\n    </tr>\n    <tr>\n      <th>2test</th>\n      <td>1078</td>\n      <td>0</td>\n      <td>0.000000</td>\n      <td>19</td>\n      <td>0.017625</td>\n    </tr>\n  </tbody>\n</table>\n</div>"
     },
     "execution_count": 98,
     "metadata": {},
     "output_type": "execute_result"
    }
   ],
   "source": [
    "df.groupby('set').agg({'multi_turn': [len, 'sum', 'mean'], 'no_tools': ['sum', 'mean']})"
   ],
   "metadata": {
    "collapsed": false,
    "ExecuteTime": {
     "end_time": "2024-01-09T09:16:54.916121536Z",
     "start_time": "2024-01-09T09:16:54.888543354Z"
    }
   },
   "id": "b455885e64cf5c0b"
  },
  {
   "cell_type": "code",
   "execution_count": 8,
   "outputs": [],
   "source": [
    "# 微调模型"
   ],
   "metadata": {
    "collapsed": false,
    "ExecuteTime": {
     "end_time": "2024-01-09T06:45:34.383475792Z",
     "start_time": "2024-01-09T06:45:34.363959129Z"
    }
   },
   "id": "442963bc92377bd7"
  },
  {
   "cell_type": "code",
   "execution_count": 13,
   "outputs": [],
   "source": [
    "# ptuning 128\n",
    "# pt_checkpoint = \"/root/PycharmProjects/ChatGLM3/finetune_chatmodel_demo/output/tool_alpaca_pt-20240108-191900-128-2e-2/checkpoint-250\"  \n",
    "# PRE_SEQ_LEN = int(os.environ.get(\"PRE_SEQ_LEN\", 128))\n",
    "# ptuning 256\n",
    "pt_checkpoint = \"/root/PycharmProjects/ChatGLM3/finetune_chatmodel_demo/output/tool_alpaca_pt-20240115-175737-256-2e-2/checkpoint-250\"   \n",
    "PRE_SEQ_LEN = int(os.environ.get(\"PRE_SEQ_LEN\", 256))"
   ],
   "metadata": {
    "collapsed": false,
    "ExecuteTime": {
     "end_time": "2024-01-16T06:20:48.044394002Z",
     "start_time": "2024-01-16T06:20:48.032654525Z"
    }
   },
   "id": "3d917056436db34c"
  },
  {
   "cell_type": "code",
   "execution_count": 14,
   "outputs": [
    {
     "name": "stdout",
     "output_type": "stream",
     "text": [
      "pt point found\n"
     ]
    },
    {
     "data": {
      "text/plain": "Loading checkpoint shards:   0%|          | 0/7 [00:00<?, ?it/s]",
      "application/vnd.jupyter.widget-view+json": {
       "version_major": 2,
       "version_minor": 0,
       "model_id": "135dc92fd41b4c2ca21e3deed9de41f7"
      }
     },
     "metadata": {},
     "output_type": "display_data"
    },
    {
     "name": "stderr",
     "output_type": "stream",
     "text": [
      "Some weights of ChatGLMForConditionalGeneration were not initialized from the model checkpoint at /data/dataset/huggingface/hub/models--THUDM--chatglm3-6b/snapshots/456aa875cf1f46623006edaa23103774ea9c0eae and are newly initialized: ['transformer.prefix_encoder.embedding.weight']\n",
      "You should probably TRAIN this model on a down-stream task to be able to use it for predictions and inference.\n"
     ]
    },
    {
     "name": "stdout",
     "output_type": "stream",
     "text": [
      "Loaded from pt checkpoints dict_keys(['embedding.weight'])\n"
     ]
    }
   ],
   "source": [
    "if pt_checkpoint is not None and os.path.exists(pt_checkpoint):\n",
    "    print('pt point found')\n",
    "    config = AutoConfig.from_pretrained(\n",
    "        \"/data/dataset/huggingface/hub/models--THUDM--chatglm3-6b/snapshots/456aa875cf1f46623006edaa23103774ea9c0eae\",\n",
    "        trust_remote_code=True,\n",
    "        pre_seq_len=PRE_SEQ_LEN,\n",
    "        max_new_token=1024,\n",
    "    )\n",
    "    model = AutoModel.from_pretrained(\n",
    "        \"/data/dataset/huggingface/hub/models--THUDM--chatglm3-6b/snapshots/456aa875cf1f46623006edaa23103774ea9c0eae\",\n",
    "        trust_remote_code=True,\n",
    "        config=config,\n",
    "        device_map=\"auto\"\n",
    "    ).eval()\n",
    "    prefix_state_dict = torch.load(os.path.join(pt_checkpoint, \"pytorch_model.bin\"))\n",
    "    new_prefix_state_dict = {}\n",
    "    for k, v in prefix_state_dict.items():\n",
    "        if k.startswith(\"transformer.prefix_encoder.\"):\n",
    "            new_prefix_state_dict[k[len(\"transformer.prefix_encoder.\"):]] = v\n",
    "    print(\"Loaded from pt checkpoints\", new_prefix_state_dict.keys())\n",
    "    model.transformer.prefix_encoder.load_state_dict(new_prefix_state_dict)"
   ],
   "metadata": {
    "collapsed": false,
    "ExecuteTime": {
     "end_time": "2024-01-16T06:24:43.614437103Z",
     "start_time": "2024-01-16T06:24:20.493521557Z"
    }
   },
   "id": "9c2e4ccdd38fafcf"
  },
  {
   "cell_type": "code",
   "execution_count": 35,
   "outputs": [
    {
     "data": {
      "text/plain": "<Figure size 1000x400 with 2 Axes>",
      "image/png": "[encoded data removed]"
     },
     "metadata": {},
     "output_type": "display_data"
    }
   ],
   "source": [
    "# ptuning 128\n",
    "with open('output/tool_alpaca_pt-128-20240108-191900-128-2e-2/checkpoint-500/trainer_state.json', 'r') as file:\n",
    "    log_history = json.load(file)['log_history']\n",
    "step = [i['step'] for i in log_history]\n",
    "learning_rate = [i['learning_rate'] for i in log_history]\n",
    "loss = [i['loss'] for i in log_history]\n",
    "import matplotlib.pyplot as plt \n",
    "fig, (ax1, ax2) = plt.subplots(1, 2, figsize=(10, 4))\n",
    "ax1.plot(step, learning_rate)\n",
    "ax2.plot(step, loss)\n",
    "ax1.set_xlabel('steps')\n",
    "ax1.set_ylabel('learning rate')\n",
    "ax2.set_xlabel('steps')\n",
    "ax2.set_ylabel('loss')\n",
    "plt.show()"
   ],
   "metadata": {
    "collapsed": false,
    "ExecuteTime": {
     "end_time": "2024-01-16T06:47:34.779810062Z",
     "start_time": "2024-01-16T06:47:34.458363474Z"
    }
   },
   "id": "856b7c84449a2dcf"
  },
  {
   "cell_type": "code",
   "execution_count": 32,
   "outputs": [
    {
     "data": {
      "text/plain": "<Figure size 1000x400 with 2 Axes>",
      "image/png": "[encoded data removed]"
     },
     "metadata": {},
     "output_type": "display_data"
    }
   ],
   "source": [
    "# ptuning 256\n",
    "with open('output/tool_alpaca_pt-20240115-175737-256-2e-2/checkpoint-500/trainer_state.json', 'r') as file:\n",
    "    log_history = json.load(file)['log_history']\n",
    "step = [i['step'] for i in log_history]\n",
    "learning_rate = [i['learning_rate'] for i in log_history]\n",
    "loss = [i['loss'] for i in log_history]\n",
    "import matplotlib.pyplot as plt \n",
    "fig, (ax1, ax2) = plt.subplots(1, 2, figsize=(10, 4))\n",
    "ax1.plot(step, learning_rate)\n",
    "ax2.plot(step, loss)\n",
    "ax1.set_xlabel('steps')\n",
    "ax1.set_ylabel('learning rate')\n",
    "ax2.set_xlabel('steps')\n",
    "ax2.set_ylabel('loss')\n",
    "plt.show()"
   ],
   "metadata": {
    "collapsed": false,
    "ExecuteTime": {
     "end_time": "2024-01-16T06:46:25.539212469Z",
     "start_time": "2024-01-16T06:46:25.171624955Z"
    }
   },
   "id": "d4dbb49a1a149e35"
  },
  {
   "cell_type": "code",
   "execution_count": 12,
   "outputs": [],
   "source": [
    "# 原始模型"
   ],
   "metadata": {
    "collapsed": false,
    "ExecuteTime": {
     "end_time": "2024-01-09T06:46:01.011225212Z",
     "start_time": "2024-01-09T06:46:00.964794341Z"
    }
   },
   "id": "8b7bfda356fa37e8"
  },
  {
   "cell_type": "code",
   "execution_count": 13,
   "outputs": [
    {
     "data": {
      "text/plain": "Loading checkpoint shards:   0%|          | 0/7 [00:00<?, ?it/s]",
      "application/vnd.jupyter.widget-view+json": {
       "version_major": 2,
       "version_minor": 0,
       "model_id": "7d21f27d0c00408684393233dd34f5b2"
      }
     },
     "metadata": {},
     "output_type": "display_data"
    }
   ],
   "source": [
    "model_raw = AutoModel.from_pretrained(\"/data/dataset/huggingface/hub/models--THUDM--chatglm3-6b/snapshots/456aa875cf1f46623006edaa23103774ea9c0eae\", trust_remote_code=True)\n",
    "model_raw = model_raw.to(1).eval()"
   ],
   "metadata": {
    "collapsed": false,
    "ExecuteTime": {
     "end_time": "2024-01-09T06:46:14.406068238Z",
     "start_time": "2024-01-09T06:46:01.008287766Z"
    }
   },
   "id": "8c269eee56117c7"
  },
  {
   "cell_type": "code",
   "execution_count": 69,
   "outputs": [],
   "source": [
    "# 随便看一个"
   ],
   "metadata": {
    "collapsed": false,
    "ExecuteTime": {
     "end_time": "2024-01-09T05:46:19.915352251Z",
     "start_time": "2024-01-09T05:46:19.904190396Z"
    }
   },
   "id": "393394ccacf7e7dd"
  },
  {
   "cell_type": "code",
   "execution_count": 18,
   "outputs": [],
   "source": [
    "data = train_dataset[5]\n",
    "query = data['query']\n",
    "history = [data[\"history\"]]\n",
    "role = \"user\""
   ],
   "metadata": {
    "collapsed": false,
    "ExecuteTime": {
     "end_time": "2024-01-16T06:35:06.024572994Z",
     "start_time": "2024-01-16T06:35:06.011654641Z"
    }
   },
   "id": "5b49968f1a230c00"
  },
  {
   "cell_type": "code",
   "execution_count": 19,
   "outputs": [],
   "source": [
    "response, history = model.chat(tokenizer, query, history=history, role=role)"
   ],
   "metadata": {
    "collapsed": false,
    "ExecuteTime": {
     "end_time": "2024-01-16T06:35:14.953725048Z",
     "start_time": "2024-01-16T06:35:12.086334254Z"
    }
   },
   "id": "20cd23441aefab32"
  },
  {
   "cell_type": "code",
   "execution_count": 20,
   "outputs": [
    {
     "data": {
      "text/plain": "'Time to empty the wastewater tank'"
     },
     "execution_count": 20,
     "metadata": {},
     "output_type": "execute_result"
    }
   ],
   "source": [
    "query "
   ],
   "metadata": {
    "collapsed": false,
    "ExecuteTime": {
     "end_time": "2024-01-16T06:35:20.666742003Z",
     "start_time": "2024-01-16T06:35:20.618629547Z"
    }
   },
   "id": "e62083687bfbf613"
  },
  {
   "cell_type": "code",
   "execution_count": 21,
   "outputs": [
    {
     "data": {
      "text/plain": "[('get_property', {'property_name': 'wastewater tank'})]"
     },
     "execution_count": 21,
     "metadata": {},
     "output_type": "execute_result"
    }
   ],
   "source": [
    "data['query_target']"
   ],
   "metadata": {
    "collapsed": false,
    "ExecuteTime": {
     "end_time": "2024-01-16T06:35:24.039344872Z",
     "start_time": "2024-01-16T06:35:24.030565701Z"
    }
   },
   "id": "3d2e47d4807c7f96"
  },
  {
   "cell_type": "code",
   "execution_count": 22,
   "outputs": [
    {
     "name": "stdout",
     "output_type": "stream",
     "text": [
      "{'name': 'do_not_or_skip_clean', 'parameters': {'location': 'wastewater tank'}}\n"
     ]
    }
   ],
   "source": [
    "print(response)"
   ],
   "metadata": {
    "collapsed": false,
    "ExecuteTime": {
     "end_time": "2024-01-16T06:35:25.850235561Z",
     "start_time": "2024-01-16T06:35:25.834718112Z"
    }
   },
   "id": "ce283fa1897b51f3"
  },
  {
   "cell_type": "code",
   "execution_count": 75,
   "outputs": [
    {
     "data": {
      "text/plain": "[{'role': 'system',\n  'content': 'Answer the following questions as best as you can. You have access to the following tools:\\n',\n  'tools': '[{\"name\": \"general_control\", \"description\": \"This API is used for controlling general tasks, typically providing control for listed user-defined tasks, or that is not directly tied to specific task types, or non-clean task\", \"parameters\": {\"type\": \"object\", \"properties\": {\"action\": {\"type\": \"string\", \"enum\": [\"start\", \"stop\", \"pause\", \"resume\"]}, \"user_defined_task\": {\"type\": \"string\", \"description\": \"user-defined task described in user request\"}}, \"required\": [\"operation_type\"]}}, {\"name\": \"clean\", \"description\": \"Initiate a task of an immediate or unscheduled cleaning or partial clean, i.e., cleaning a part while leaving another part untouched.\", \"parameters\": {\"type\": \"object\", \"properties\": {\"action\": {\"type\": \"string\", \"enum\": [\"start\", \"stop\", \"pause\", \"resume\"]}, \"location\": {\"type\": \"string\", \"description\": \"Fill in the description of the location from the user request word for word, using the same language as in the user\\'s description of the location.\"}, \"tool\": {\"type\": \"string\", \"enum\": [\"vacuum only/扫\", \"mop only/拖/擦\", \"vacuum and mop\"], \"default\": \"vacuum and mop\", \"description\": \"\\'vacuum and mop\\' means vacuum and mop the floor at the same time, \\'vacuum only\\' is only vacuum, in Chinese, \\'扫\\' is \\'vacuum only\\', \\'清扫\\' is \\'vacuum and mop\\'\"}, \"total_count\": {\"type\": \"number\", \"default\": 1, \"description\": \"The total count of the operation that is repeated within a single action.\"}, \"special_mode\": {\"type\": \"string\", \"enum\": [\"local\", \"custom\"], \"description\": \"for local clean or custom clean\"}}, \"required\": [\"action\", \"tool\"]}}, {\"name\": \"do_not_or_skip_clean\", \"description\": \"This API is used when the user only requests not or skip to clean a certain area.\", \"parameters\": {\"type\": \"object\", \"properties\": {\"location\": {\"type\": \"string\", \"description\": \"Fill in the description of the location from the user request word for word, using the same language as in the user\\'s description of the location.\"}}, \"required\": [\"location\"]}}, {\"name\": \"schedule_operation\", \"description\": \"create clean task, or query or delete scheduled clean tasks. (other task not supported)\", \"parameters\": {\"type\": \"object\", \"properties\": {\"operation_type\": {\"type\": \"string\", \"enum\": [\"create\", \"query\", \"delete\"]}, \"clean_action\": {\"type\": \"string\", \"enum\": [\"start\", \"stop\", \"pause\", \"resume\"]}, \"clean_tool\": {\"type\": \"string\", \"enum\": [\"vacuum only/扫\", \"mop only/拖/擦\", \"vacuum and mop\"], \"default\": \"vacuum and mop\", \"description\": \"\\'vacuum and mop\\' refers to both vacuuming and mopping the floor.\"}, \"total_count\": {\"type\": \"number\", \"default\": 1, \"description\": \"The total count of the operation that is repeated within a single action.\"}, \"location\": {\"type\": \"string\", \"description\": \"fill the Description text of the location in the user request here, without excessive transformation, ideally word for word.\"}, \"time\": {\"type\": \"string\", \"description\": \"fill the description text of the time in the user request here, without excessive transformation, ideally word for word.\"}, \"index_from\": {\"type\": \"integer\", \"description\": \"the beginning index of the schedule, 1 for newest/recent/first, 2 for second recent, -1 for last/final, -2 for the second-to-last item, and so on\"}, \"index_to\": {\"type\": \"integer\", \"description\": \"the end index of the schedule, 1 for newest/recent/first, 2 for second recent, -1 for last/final, -2 for the second-to-last item, and so on\"}, \"relative\": {\"type\": \"string\", \"enum\": [\"next\", \"previous\"]}}, \"required\": [\"operation_type\"]}}, {\"name\": \"move\", \"description\": \"perform a move operation\", \"parameters\": {\"type\": \"object\", \"properties\": {\"location\": {\"type\": \"string\", \"description\": \"location description in the user request\"}}}, \"required\": [\"location\"]}, {\"name\": \"set_object_property\", \"description\": \"change sensors or peripherals state\", \"parameters\": {\"type\": \"object\", \"properties\": {\"property_name\": {\"type\": \"string\", \"description\": \"vaccum robot properties\", \"enum\": [\"LED/灯\", \"suction power\", \"water flow and scrub intensity/水量和擦地力度\", \"carpet boost/地毯增压\", \"Route/路线偏好\", \"mop wash mode/洗布模式\", \"volume/音量\", \"auto collect dust/auto emptying/自动集尘\", \"mop wash mode/洗布模式\", \"working level/工作档位/档位\", \"clean mode/vacuum or mop mode/扫拖模式\"]}, \"property_value\": {\"type\": \"string or integer\", \"description\": \"the property value, details in value table\", \"value_table\": [{\"property_name\": \"LED/灯\", \"property_values\": {\"proper nouns\": [\"on\", \"off\"]}}, {\"property_name\": \"suction power\", \"property_values\": {\"proper nouns\": [\"Quiet/安静/lowest\", \"Balanced/标准/lower\", \"Turbo/强力/medium\", \"Max/higher\", \"Max+/highest\"], \"scales\": [1, 2, 3, 4, 5], \"relational terms\": [\"turn up\", \"turn down\"]}}, {\"property_name\": \"water flow and scrub intensity/水量和擦地力度\", \"property_values\": {\"proper nouns\": [\"mild/轻柔\", \"moderate/标准\", \"intense/强力\"], \"scales\": [1, 2, 3], \"relational terms\": [\"turn up\", \"turn down\"]}}, {\"property_name\": \"carpet boost/地毯增压\", \"property_values\": {\"proper nouns\": [\"on\", \"off\"]}}, {\"property_name\": \"Route/路线偏好\", \"property_values\": {\"proper nouns\": [\"fast/快速\", \"standard/日常/normal\", \"deep/精细擦地/slower\", \"deep plus/深度慢拖/slowest\"], \"scales\": [1, 2, 3, 4], \"relational terms\": [\"turn up\", \"turn down\"]}}, {\"property_name\": \"mop wash mode/洗布模式\", \"property_values\": {\"proper nouns\": [\"by section/room\", \"by time: <time description>\"]}}, {\"property_name\": \"volume/音量\", \"property_values\": {\"proper nouns\": [\"mute on\", \"mute off\", \"minimum\", \"maximum\"], \"range\": {\"minimum\": 1, \"maximum\": 100}, \"relational terms\": [\"turn up\", \"turn down\"]}}, {\"property_name\": \"auto collect dust/auto emptying/自动集尘\", \"property_values\": {\"proper nouns\": [\"on\", \"off\"]}}, {\"property_name\": \"working level/工作档位/档位\", \"property_values\": {\"proper nouns\": [\"low\", \"medium\", \"high\"], \"scales\": [1, 2, 3], \"relational terms\": [\"turn up\", \"turn down\"]}}, {\"property_name\": \"clean mode/vacuum or mop mode/扫拖模式\", \"property_values\": {\"relational terms\": [\"vacuum only\", \"mop only\", \"vacuum and mop\"]}}]}}}, \"required\": [\"property_name\", \"property_value\"]}, {\"name\": \"follow_me\", \"description\": \"instruct the robot to follow the user\", \"parameters\": {\"type\": \"string\", \"enum\": [\"start\", \"stop\"]}}, {\"name\": \"go_away\", \"description\": \"instruct the robot to go away or do other things first\", \"parameters\": null}, {\"name\": \"get_property\", \"description\": \"get robot property\", \"parameters\": {\"type\": \"object\", \"properties\": {\"property_name\": {\"type\": \"string\", \"description\": \"vaccum robot properties\", \"enum\": [\"LED/灯\", \"suction power\", \"water flow and scrub intensity/水量和擦地力度\", \"carpet boost/地毯增压\", \"Route/路线偏好\", \"filter\", \"main brush\", \"side brush\", \"sensors\", \"mop\", \"dust bag\", \"floor cleaning solution\", \"current location\", \"remaining battery power\", \"freshwater tank/water tank\", \"wastewater tank\", \"volume/音量\", \"all consumables\", \"High-speed maintenance brush/自清洁刷\", \"Water filter/清洁槽滤网\", \"list features/self-introduction\"]}}}}, {\"name\": \"upgrade_firmware\", \"description\": \"Upgrade firmware.\", \"parameters\": null}, {\"name\": \"dock_operation\", \"description\": \"api for the features of vacuum robot dock\", \"parameters\": {\"type\": \"object\", \"properties\": {\"action\": {\"type\": \"string\", \"enum\": [\"start\", \"stop\", \"pause\", \"resume\"]}, \"operation_type\": {\"type\": \"string\", \"enum\": [\"charge battery\", \"come down\", \"collect dust/集尘\", \"wash mop\", \"drying mop\", \"back to\"], \"description\": \"\\'charge battery\\' means sending the robot to the dock to recharge. \\'come down\\' instructs the vacuum robot to descend from the dock. \\'wash mop\\' instructs the vacuum robot to clean its attached mop. \\'back to\\' means instructs robot to go back to dock.\"}}}, \"required\": [\"operation_type\"]}, {\"name\": \"mapping\", \"description\": \"api for building map\", \"parameters\": {\"type\": \"object\", \"properties\": {\"action\": {\"type\": \"string\", \"enum\": [\"start\", \"stop\", \"pause\", \"resume\"]}}, \"required\": [\"operation_type\"]}}]'},\n {'role': 'user', 'content': 'Time to empty the wastewater tank'},\n {'role': 'assistant',\n  'metadata': 'clean',\n  'content': \" ```python\\ntool_call(action='start', location='wastewater tank')\\n```\"}]"
     },
     "execution_count": 75,
     "metadata": {},
     "output_type": "execute_result"
    }
   ],
   "source": [
    "history "
   ],
   "metadata": {
    "collapsed": false,
    "ExecuteTime": {
     "end_time": "2024-01-09T05:47:32.598697667Z",
     "start_time": "2024-01-09T05:47:32.514410406Z"
    }
   },
   "id": "91816ef3db491e12"
  },
  {
   "cell_type": "code",
   "execution_count": null,
   "outputs": [],
   "source": [
    "# 统计分析"
   ],
   "metadata": {
    "collapsed": false
   },
   "id": "d0544c266642f56e"
  },
  {
   "cell_type": "code",
   "execution_count": 15,
   "outputs": [
    {
     "name": "stdout",
     "output_type": "stream",
     "text": [
      "1train 1finetune\n",
      "0\n",
      "1\n",
      "2\n",
      "3\n",
      "4\n",
      "5\n",
      "6\n",
      "7\n",
      "8\n",
      "9\n",
      "10\n",
      "11\n",
      "12\n",
      "13\n",
      "14\n",
      "15\n",
      "16\n",
      "17\n",
      "18\n",
      "19\n",
      "20\n",
      "21\n",
      "22\n",
      "23\n",
      "24\n",
      "25\n",
      "26\n",
      "27\n",
      "28\n",
      "29\n",
      "30\n",
      "31\n",
      "32\n",
      "33\n",
      "34\n",
      "35\n",
      "36\n",
      "37\n",
      "38\n",
      "39\n",
      "40\n",
      "41\n",
      "42\n",
      "43\n",
      "44\n",
      "45\n",
      "46\n",
      "47\n",
      "48\n",
      "49\n",
      "50\n",
      "51\n",
      "52\n",
      "53\n",
      "54\n",
      "55\n",
      "56\n",
      "57\n",
      "58\n",
      "59\n",
      "60\n",
      "61\n",
      "62\n",
      "63\n",
      "64\n",
      "65\n",
      "66\n",
      "67\n",
      "68\n",
      "69\n",
      "70\n",
      "71\n",
      "72\n",
      "73\n",
      "74\n",
      "75\n",
      "76\n",
      "77\n",
      "78\n",
      "79\n",
      "80\n",
      "81\n",
      "82\n",
      "83\n",
      "84\n",
      "85\n",
      "86\n",
      "87\n",
      "88\n",
      "89\n",
      "90\n",
      "91\n",
      "92\n",
      "93\n",
      "94\n",
      "95\n",
      "96\n",
      "97\n",
      "98\n",
      "99\n",
      "100\n",
      "2test 1finetune\n",
      "0\n",
      "1\n",
      "2\n",
      "3\n",
      "4\n",
      "5\n",
      "6\n",
      "7\n",
      "8\n",
      "9\n",
      "10\n",
      "11\n",
      "12\n",
      "13\n",
      "14\n",
      "15\n",
      "16\n",
      "17\n",
      "18\n",
      "19\n",
      "20\n",
      "21\n",
      "22\n",
      "23\n",
      "24\n",
      "25\n",
      "26\n",
      "27\n",
      "28\n",
      "29\n",
      "30\n",
      "31\n",
      "32\n",
      "33\n",
      "34\n",
      "35\n",
      "36\n",
      "37\n",
      "38\n",
      "39\n",
      "40\n",
      "41\n",
      "42\n",
      "43\n",
      "44\n",
      "45\n",
      "46\n",
      "47\n",
      "48\n",
      "49\n",
      "50\n",
      "51\n",
      "52\n",
      "53\n",
      "54\n",
      "55\n",
      "56\n",
      "57\n",
      "58\n",
      "59\n",
      "60\n",
      "61\n",
      "62\n",
      "63\n",
      "64\n",
      "65\n",
      "66\n",
      "67\n",
      "68\n",
      "69\n",
      "70\n",
      "71\n",
      "72\n",
      "73\n",
      "74\n",
      "75\n",
      "76\n",
      "77\n",
      "78\n",
      "79\n",
      "80\n",
      "81\n",
      "82\n",
      "83\n",
      "84\n",
      "85\n",
      "86\n",
      "87\n",
      "88\n",
      "89\n",
      "90\n",
      "91\n",
      "92\n",
      "93\n",
      "94\n",
      "95\n",
      "96\n",
      "97\n",
      "98\n",
      "99\n",
      "100\n"
     ]
    },
    {
     "ename": "NameError",
     "evalue": "name 'model_raw' is not defined",
     "output_type": "error",
     "traceback": [
      "\u001B[0;31m---------------------------------------------------------------------------\u001B[0m",
      "\u001B[0;31mNameError\u001B[0m                                 Traceback (most recent call last)",
      "Cell \u001B[0;32mIn[15], line 4\u001B[0m\n\u001B[1;32m      2\u001B[0m final\u001B[38;5;241m.\u001B[39mappend(cal_chatglm(train_data, train_dataset, model, tokenizer, set_name\u001B[38;5;241m=\u001B[39m\u001B[38;5;124m'\u001B[39m\u001B[38;5;124m1train\u001B[39m\u001B[38;5;124m'\u001B[39m, model_name\u001B[38;5;241m=\u001B[39m\u001B[38;5;124m'\u001B[39m\u001B[38;5;124m1finetune\u001B[39m\u001B[38;5;124m'\u001B[39m, limit\u001B[38;5;241m=\u001B[39m\u001B[38;5;241m100\u001B[39m))\n\u001B[1;32m      3\u001B[0m final\u001B[38;5;241m.\u001B[39mappend(cal_chatglm(test_data, test_dataset, model, tokenizer, set_name\u001B[38;5;241m=\u001B[39m\u001B[38;5;124m'\u001B[39m\u001B[38;5;124m2test\u001B[39m\u001B[38;5;124m'\u001B[39m, model_name\u001B[38;5;241m=\u001B[39m\u001B[38;5;124m'\u001B[39m\u001B[38;5;124m1finetune\u001B[39m\u001B[38;5;124m'\u001B[39m, limit\u001B[38;5;241m=\u001B[39m\u001B[38;5;241m100\u001B[39m))\n\u001B[0;32m----> 4\u001B[0m final\u001B[38;5;241m.\u001B[39mappend(cal_chatglm(train_data, train_dataset, \u001B[43mmodel_raw\u001B[49m, tokenizer, set_name\u001B[38;5;241m=\u001B[39m\u001B[38;5;124m'\u001B[39m\u001B[38;5;124m1train\u001B[39m\u001B[38;5;124m'\u001B[39m, model_name\u001B[38;5;241m=\u001B[39m\u001B[38;5;124m'\u001B[39m\u001B[38;5;124m2raw\u001B[39m\u001B[38;5;124m'\u001B[39m, limit\u001B[38;5;241m=\u001B[39m\u001B[38;5;241m100\u001B[39m))\n\u001B[1;32m      5\u001B[0m final\u001B[38;5;241m.\u001B[39mappend(cal_chatglm(test_data, test_dataset, model_raw, tokenizer, set_name\u001B[38;5;241m=\u001B[39m\u001B[38;5;124m'\u001B[39m\u001B[38;5;124m2test\u001B[39m\u001B[38;5;124m'\u001B[39m, model_name\u001B[38;5;241m=\u001B[39m\u001B[38;5;124m'\u001B[39m\u001B[38;5;124m2raw\u001B[39m\u001B[38;5;124m'\u001B[39m, limit\u001B[38;5;241m=\u001B[39m\u001B[38;5;241m100\u001B[39m))\n\u001B[1;32m      6\u001B[0m final\u001B[38;5;241m.\u001B[39mappend(cal_openai(train_data, train_dataset, set_name\u001B[38;5;241m=\u001B[39m\u001B[38;5;124m'\u001B[39m\u001B[38;5;124m1train\u001B[39m\u001B[38;5;124m'\u001B[39m, model_name\u001B[38;5;241m=\u001B[39m\u001B[38;5;124m'\u001B[39m\u001B[38;5;124m3openai\u001B[39m\u001B[38;5;124m'\u001B[39m, limit\u001B[38;5;241m=\u001B[39m\u001B[38;5;241m100\u001B[39m))\n",
      "\u001B[0;31mNameError\u001B[0m: name 'model_raw' is not defined"
     ]
    }
   ],
   "source": [
    "final = []\n",
    "final.append(cal_chatglm(train_data, train_dataset, model, tokenizer, set_name='1train', model_name='1finetune', limit=100))\n",
    "final.append(cal_chatglm(test_data, test_dataset, model, tokenizer, set_name='2test', model_name='1finetune', limit=100))\n",
    "final.append(cal_chatglm(train_data, train_dataset, model_raw, tokenizer, set_name='1train', model_name='2raw', limit=100))\n",
    "final.append(cal_chatglm(test_data, test_dataset, model_raw, tokenizer, set_name='2test', model_name='2raw', limit=100))"
   ],
   "metadata": {
    "collapsed": false,
    "ExecuteTime": {
     "end_time": "2024-01-16T06:34:00.999362293Z",
     "start_time": "2024-01-16T06:25:12.817411150Z"
    }
   },
   "id": "e8181934c70b4cf1"
  },
  {
   "cell_type": "code",
   "execution_count": null,
   "outputs": [],
   "source": [
    "final.append(cal_openai(train_data, train_dataset, set_name='1train', model_name='3openai', limit=100))\n",
    "final.append(cal_openai(test_data, test_dataset, set_name='2test', model_name='3openai', limit=100))"
   ],
   "metadata": {
    "collapsed": false
   },
   "id": "3490d9a7a9384715"
  },
  {
   "cell_type": "code",
   "execution_count": 16,
   "outputs": [],
   "source": [
    "final = pd.concat(final, axis=0).reset_index(drop=True)"
   ],
   "metadata": {
    "collapsed": false,
    "ExecuteTime": {
     "end_time": "2024-01-16T06:34:06.566823580Z",
     "start_time": "2024-01-16T06:34:06.553045553Z"
    }
   },
   "id": "a4f4d76e9d048039"
  },
  {
   "cell_type": "code",
   "execution_count": 104,
   "outputs": [],
   "source": [
    "final.to_csv('robocontrol.csv', index=None)"
   ],
   "metadata": {
    "collapsed": false,
    "ExecuteTime": {
     "end_time": "2024-01-09T09:30:06.358534884Z",
     "start_time": "2024-01-09T09:30:06.315766767Z"
    }
   },
   "id": "c40e0ab2d06a8c4a"
  },
  {
   "cell_type": "code",
   "execution_count": 17,
   "outputs": [
    {
     "data": {
      "text/plain": "                       num  zero_error_count  zero_error_rate  intent_sum  \\\nmodel_name set_name                                                         \n1finetune  1train    100.0              97.0             0.97        57.0   \n           2test     100.0              98.0             0.98        55.0   \n\n                     intent_mean  slot_sum  slot_mean  both_mean  \nmodel_name set_name                                               \n1finetune  1train       0.587629      27.0   0.473684   0.278351  \n           2test        0.561224      23.0   0.418182   0.234694  ",
      "text/html": "<div>\n<style scoped>\n    .dataframe tbody tr th:only-of-type {\n        vertical-align: middle;\n    }\n\n    .dataframe tbody tr th {\n        vertical-align: top;\n    }\n\n    .dataframe thead th {\n        text-align: right;\n    }\n</style>\n<table border=\"1\" class=\"dataframe\">\n  <thead>\n    <tr style=\"text-align: right;\">\n      <th></th>\n      <th></th>\n      <th>num</th>\n      <th>zero_error_count</th>\n      <th>zero_error_rate</th>\n      <th>intent_sum</th>\n      <th>intent_mean</th>\n      <th>slot_sum</th>\n      <th>slot_mean</th>\n      <th>both_mean</th>\n    </tr>\n    <tr>\n      <th>model_name</th>\n      <th>set_name</th>\n      <th></th>\n      <th></th>\n      <th></th>\n      <th></th>\n      <th></th>\n      <th></th>\n      <th></th>\n      <th></th>\n    </tr>\n  </thead>\n  <tbody>\n    <tr>\n      <th rowspan=\"2\" valign=\"top\">1finetune</th>\n      <th>1train</th>\n      <td>100.0</td>\n      <td>97.0</td>\n      <td>0.97</td>\n      <td>57.0</td>\n      <td>0.587629</td>\n      <td>27.0</td>\n      <td>0.473684</td>\n      <td>0.278351</td>\n    </tr>\n    <tr>\n      <th>2test</th>\n      <td>100.0</td>\n      <td>98.0</td>\n      <td>0.98</td>\n      <td>55.0</td>\n      <td>0.561224</td>\n      <td>23.0</td>\n      <td>0.418182</td>\n      <td>0.234694</td>\n    </tr>\n  </tbody>\n</table>\n</div>"
     },
     "execution_count": 17,
     "metadata": {},
     "output_type": "execute_result"
    }
   ],
   "source": [
    "# ptuning 256\n",
    "final.groupby(['model_name', 'set_name']).apply(cal_accuracy)"
   ],
   "metadata": {
    "collapsed": false,
    "ExecuteTime": {
     "end_time": "2024-01-16T06:34:12.047549418Z",
     "start_time": "2024-01-16T06:34:12.005509435Z"
    }
   },
   "id": "182ae52db126af0c"
  },
  {
   "cell_type": "code",
   "execution_count": 83,
   "outputs": [
    {
     "data": {
      "text/plain": "                       num  zero_error_count  zero_error_rate  intent_sum  \\\nmodel_name set_name                                                         \n1finetune  1train    100.0              97.0             0.97        60.0   \n           2test     100.0             100.0             1.00        62.0   \n2raw       1train    100.0              99.0             0.99        28.0   \n           2test     100.0             100.0             1.00        23.0   \n3openai    1train    100.0              95.0             0.95        90.0   \n           2test     100.0              94.0             0.94        89.0   \n\n                     intent_mean  slot_sum  slot_mean  both_mean  \nmodel_name set_name                                               \n1finetune  1train       0.618557      29.0   0.483333   0.298969  \n           2test        0.620000      30.0   0.483871   0.300000  \n2raw       1train       0.282828       3.0   0.107143   0.030303  \n           2test        0.230000       7.0   0.304348   0.070000  \n3openai    1train       0.947368      73.0   0.811111   0.768421  \n           2test        0.946809      69.0   0.775281   0.734043  ",
      "text/html": "<div>\n<style scoped>\n    .dataframe tbody tr th:only-of-type {\n        vertical-align: middle;\n    }\n\n    .dataframe tbody tr th {\n        vertical-align: top;\n    }\n\n    .dataframe thead th {\n        text-align: right;\n    }\n</style>\n<table border=\"1\" class=\"dataframe\">\n  <thead>\n    <tr style=\"text-align: right;\">\n      <th></th>\n      <th></th>\n      <th>num</th>\n      <th>zero_error_count</th>\n      <th>zero_error_rate</th>\n      <th>intent_sum</th>\n      <th>intent_mean</th>\n      <th>slot_sum</th>\n      <th>slot_mean</th>\n      <th>both_mean</th>\n    </tr>\n    <tr>\n      <th>model_name</th>\n      <th>set_name</th>\n      <th></th>\n      <th></th>\n      <th></th>\n      <th></th>\n      <th></th>\n      <th></th>\n      <th></th>\n      <th></th>\n    </tr>\n  </thead>\n  <tbody>\n    <tr>\n      <th rowspan=\"2\" valign=\"top\">1finetune</th>\n      <th>1train</th>\n      <td>100.0</td>\n      <td>97.0</td>\n      <td>0.97</td>\n      <td>60.0</td>\n      <td>0.618557</td>\n      <td>29.0</td>\n      <td>0.483333</td>\n      <td>0.298969</td>\n    </tr>\n    <tr>\n      <th>2test</th>\n      <td>100.0</td>\n      <td>100.0</td>\n      <td>1.00</td>\n      <td>62.0</td>\n      <td>0.620000</td>\n      <td>30.0</td>\n      <td>0.483871</td>\n      <td>0.300000</td>\n    </tr>\n    <tr>\n      <th rowspan=\"2\" valign=\"top\">2raw</th>\n      <th>1train</th>\n      <td>100.0</td>\n      <td>99.0</td>\n      <td>0.99</td>\n      <td>28.0</td>\n      <td>0.282828</td>\n      <td>3.0</td>\n      <td>0.107143</td>\n      <td>0.030303</td>\n    </tr>\n    <tr>\n      <th>2test</th>\n      <td>100.0</td>\n      <td>100.0</td>\n      <td>1.00</td>\n      <td>23.0</td>\n      <td>0.230000</td>\n      <td>7.0</td>\n      <td>0.304348</td>\n      <td>0.070000</td>\n    </tr>\n    <tr>\n      <th rowspan=\"2\" valign=\"top\">3openai</th>\n      <th>1train</th>\n      <td>100.0</td>\n      <td>95.0</td>\n      <td>0.95</td>\n      <td>90.0</td>\n      <td>0.947368</td>\n      <td>73.0</td>\n      <td>0.811111</td>\n      <td>0.768421</td>\n    </tr>\n    <tr>\n      <th>2test</th>\n      <td>100.0</td>\n      <td>94.0</td>\n      <td>0.94</td>\n      <td>89.0</td>\n      <td>0.946809</td>\n      <td>69.0</td>\n      <td>0.775281</td>\n      <td>0.734043</td>\n    </tr>\n  </tbody>\n</table>\n</div>"
     },
     "execution_count": 83,
     "metadata": {},
     "output_type": "execute_result"
    }
   ],
   "source": [
    "final.groupby(['model_name', 'set_name']).apply(cal_accuracy)"
   ],
   "metadata": {
    "collapsed": false,
    "ExecuteTime": {
     "end_time": "2024-01-09T09:09:56.975055584Z",
     "start_time": "2024-01-09T09:09:56.929957477Z"
    }
   },
   "id": "3c1f828fc5653f3c"
  }
 ],
 "metadata": {
  "kernelspec": {
   "display_name": "Python 3",
   "language": "python",
   "name": "python3"
  },
  "language_info": {
   "codemirror_mode": {
    "name": "ipython",
    "version": 2
   },
   "file_extension": ".py",
   "mimetype": "text/x-python",
   "name": "python",
   "nbconvert_exporter": "python",
   "pygments_lexer": "ipython2",
   "version": "2.7.6"
  }
 },
 "nbformat": 4,
 "nbformat_minor": 5
}
